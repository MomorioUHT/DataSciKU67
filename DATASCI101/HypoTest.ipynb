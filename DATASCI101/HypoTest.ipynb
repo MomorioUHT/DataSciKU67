{
 "cells": [
  {
   "cell_type": "markdown",
   "id": "9407af91-1ed5-4242-91ad-88a9715e9888",
   "metadata": {},
   "source": [
    "## Hypotest"
   ]
  },
  {
   "cell_type": "code",
   "execution_count": 1,
   "id": "b07f768c-3907-44dd-a020-6248d3878aa4",
   "metadata": {},
   "outputs": [],
   "source": [
    "import pandas as pd\n",
    "import numpy as np\n",
    "import seaborn as sns\n",
    "import matplotlib as plt\n",
    "import scipy"
   ]
  },
  {
   "cell_type": "code",
   "execution_count": 2,
   "id": "ea7174be-3b64-486d-b120-dfa051fc5165",
   "metadata": {},
   "outputs": [],
   "source": [
    "p_head = 0.5 #สมมติฐานว่า การโยนเหรียญ 10 ครั้งแล้วได้ H7 ครั้งเป็นเรื่องบังเอิญ"
   ]
  },
  {
   "cell_type": "markdown",
   "id": "ef2dccac-c4b1-465b-b214-d566012f1990",
   "metadata": {},
   "source": [
    "## Simulate การโยนเหรียญ 10 รอบ"
   ]
  },
  {
   "cell_type": "code",
   "execution_count": 3,
   "id": "eab1e93e-2f41-402d-b569-adc7e6e1c2f6",
   "metadata": {},
   "outputs": [
    {
     "data": {
      "text/plain": [
       "['T', 'T', 'H', 'T', 'H', 'H', 'T', 'T', 'T', 'T']"
      ]
     },
     "execution_count": 3,
     "metadata": {},
     "output_type": "execute_result"
    }
   ],
   "source": [
    "# เราจะใช้การ random ว่าถ้าเกิด prob มากกว่า p_head ให้ถือว่าเป็นก้อย\n",
    "ls = ['H' if np.random.random() <= p_head else 'T' for i in range(10)]\n",
    "ls"
   ]
  },
  {
   "cell_type": "code",
   "execution_count": 4,
   "id": "d882c1d8-a129-43f0-b439-16ca5a7a7181",
   "metadata": {},
   "outputs": [
    {
     "data": {
      "text/plain": [
       "(3, 7)"
      ]
     },
     "execution_count": 4,
     "metadata": {},
     "output_type": "execute_result"
    }
   ],
   "source": [
    "ls.count('H'), ls.count('T')"
   ]
  },
  {
   "cell_type": "markdown",
   "id": "0981cd5a-1a2f-41ba-871a-0b634549b4da",
   "metadata": {},
   "source": [
    "## เราจะลองโยนเหรียญนี้ดู 1000 รอบแล้วเก็บผลลัพท์ของการเกิด H เอาไว้"
   ]
  },
  {
   "cell_type": "code",
   "execution_count": 5,
   "id": "fca9af92-421e-4373-b70a-a56eb72a49f1",
   "metadata": {},
   "outputs": [
    {
     "data": {
      "text/plain": [
       "0      5\n",
       "1      5\n",
       "2      5\n",
       "3      2\n",
       "4      5\n",
       "      ..\n",
       "995    7\n",
       "996    6\n",
       "997    7\n",
       "998    4\n",
       "999    3\n",
       "Name: head counts, Length: 1000, dtype: int64"
      ]
     },
     "execution_count": 5,
     "metadata": {},
     "output_type": "execute_result"
    }
   ],
   "source": [
    "head_count_ls = []\n",
    "for i in range(1000):\n",
    "    head_count_ls.append(['H' if np.random.random() <= p_head else 'T' for i in range(10)].count('H'))\n",
    "    \n",
    "head_counts = pd.Series(head_count_ls, name='head counts')\n",
    "head_counts"
   ]
  },
  {
   "cell_type": "code",
   "execution_count": 6,
   "id": "3cc9805f-1133-4b8c-9635-470e7e72a5fd",
   "metadata": {},
   "outputs": [
    {
     "data": {
      "text/plain": [
       "head counts\n",
       "5    248\n",
       "4    204\n",
       "6    193\n",
       "7    125\n",
       "3    112\n",
       "8     50\n",
       "2     44\n",
       "1     13\n",
       "9     11\n",
       "Name: count, dtype: int64"
      ]
     },
     "execution_count": 6,
     "metadata": {},
     "output_type": "execute_result"
    }
   ],
   "source": [
    "#ดูว่ามี H เกิดขึ้นกี่ครั้ง\n",
    "head_counts.value_counts()"
   ]
  },
  {
   "cell_type": "markdown",
   "id": "e1523cc8-605f-4a83-848c-0b59f59f8607",
   "metadata": {},
   "source": [
    "## เทียบกับ 1000"
   ]
  },
  {
   "cell_type": "code",
   "execution_count": 7,
   "id": "dfdd07ea-9d3e-4036-84d6-0aeb74795deb",
   "metadata": {},
   "outputs": [
    {
     "data": {
      "text/plain": [
       "head counts\n",
       "5    0.248\n",
       "4    0.204\n",
       "6    0.193\n",
       "7    0.125\n",
       "3    0.112\n",
       "8    0.050\n",
       "2    0.044\n",
       "1    0.013\n",
       "9    0.011\n",
       "Name: count, dtype: float64"
      ]
     },
     "execution_count": 7,
     "metadata": {},
     "output_type": "execute_result"
    }
   ],
   "source": [
    "head_counts.value_counts()/1000"
   ]
  },
  {
   "cell_type": "markdown",
   "id": "2870c8be-a35c-4701-bbde-4e33a545d190",
   "metadata": {},
   "source": [
    "## เราอยากรู้ว่า p_head = 0.5 หรือเปล่า?\n",
    "เราพบว่าโยนเหรียญแล้วได้ H = 7 คือ 0.113 หรือ 11.3%\\\n",
    "นั่นคือมันเกิดขึ้นได้ แต่มัน rare ดังนั้นเราจะบอกไม่ได้ว่าเหรียญนั้นไม่ fair เพราะโอกาสเกิดมันยากอยู่"
   ]
  },
  {
   "cell_type": "markdown",
   "id": "e22b3b39-ce2f-41f2-9446-b084c821b9eb",
   "metadata": {},
   "source": [
    "## มาลองพิสูจน์"
   ]
  },
  {
   "cell_type": "code",
   "execution_count": 8,
   "id": "d2c01c99-d9e5-4029-918b-d9996bc1db08",
   "metadata": {},
   "outputs": [],
   "source": [
    "H0 = 'การเกิดหัวมากกว่า 7 ครั้งเป็นเรื่องบังเอิญ'\n",
    "H1 = 'การเกิดหัวมากกว่า 7 ครั้งเป็นเรื่องปกติ'\n",
    "# ให้ alpha\n",
    "alpha = 0.05"
   ]
  },
  {
   "cell_type": "code",
   "execution_count": 9,
   "id": "5c7e9a74-10fb-4cba-a09c-6b6ad5e6afcf",
   "metadata": {},
   "outputs": [
    {
     "data": {
      "text/plain": [
       "np.float64(0.186)"
      ]
     },
     "execution_count": 9,
     "metadata": {},
     "output_type": "execute_result"
    }
   ],
   "source": [
    "p_value = (head_counts >= 7).sum() / 1000\n",
    "p_value"
   ]
  },
  {
   "cell_type": "code",
   "execution_count": 10,
   "id": "bf4701b5-ffbf-4889-b2b1-eaeae39a98fd",
   "metadata": {},
   "outputs": [
    {
     "name": "stdout",
     "output_type": "stream",
     "text": [
      "H0 Accepted: การเกิดหัวมากกว่า 7 ครั้งเป็นเรื่องบังเอิญ\n"
     ]
    }
   ],
   "source": [
    "if (p_value <= alpha):\n",
    "    print(f\"H1 Accepted: {H1}\")\n",
    "else:\n",
    "    print(f\"H0 Accepted: {H0}\")"
   ]
  },
  {
   "cell_type": "code",
   "execution_count": 11,
   "id": "35982581-fe5e-4516-bc30-970896b01347",
   "metadata": {},
   "outputs": [
    {
     "data": {
      "image/png": "[encoded data removed]",
      "text/plain": [
       "<Figure size 300x300 with 1 Axes>"
      ]
     },
     "metadata": {},
     "output_type": "display_data"
    }
   ],
   "source": [
    "g = sns.displot(head_counts, height=3, kind='kde')\n",
    "\n",
    "# Add vertical line to the correct axis\n",
    "for ax in g.axes.flat:\n",
    "    ax.axvline(7, color='r')"
   ]
  },
  {
   "cell_type": "markdown",
   "id": "fca519a3-d287-4f95-99b7-3e9a07fe0a08",
   "metadata": {},
   "source": [
    "# Case 2: tips"
   ]
  },
  {
   "cell_type": "code",
   "execution_count": 12,
   "id": "88d9a2f1-8918-4560-bb13-21f4806086aa",
   "metadata": {},
   "outputs": [
    {
     "data": {
      "text/html": [
       "<div>\n",
       "<style scoped>\n",
       "    .dataframe tbody tr th:only-of-type {\n",
       "        vertical-align: middle;\n",
       "    }\n",
       "\n",
       "    .dataframe tbody tr th {\n",
       "        vertical-align: top;\n",
       "    }\n",
       "\n",
       "    .dataframe thead th {\n",
       "        text-align: right;\n",
       "    }\n",
       "</style>\n",
       "<table border=\"1\" class=\"dataframe\">\n",
       "  <thead>\n",
       "    <tr style=\"text-align: right;\">\n",
       "      <th></th>\n",
       "      <th>total_bill</th>\n",
       "      <th>tip</th>\n",
       "      <th>sex</th>\n",
       "      <th>smoker</th>\n",
       "      <th>day</th>\n",
       "      <th>time</th>\n",
       "      <th>size</th>\n",
       "    </tr>\n",
       "  </thead>\n",
       "  <tbody>\n",
       "    <tr>\n",
       "      <th>0</th>\n",
       "      <td>16.99</td>\n",
       "      <td>1.01</td>\n",
       "      <td>Female</td>\n",
       "      <td>No</td>\n",
       "      <td>Sun</td>\n",
       "      <td>Dinner</td>\n",
       "      <td>2</td>\n",
       "    </tr>\n",
       "    <tr>\n",
       "      <th>1</th>\n",
       "      <td>10.34</td>\n",
       "      <td>1.66</td>\n",
       "      <td>Male</td>\n",
       "      <td>No</td>\n",
       "      <td>Sun</td>\n",
       "      <td>Dinner</td>\n",
       "      <td>3</td>\n",
       "    </tr>\n",
       "    <tr>\n",
       "      <th>2</th>\n",
       "      <td>21.01</td>\n",
       "      <td>3.50</td>\n",
       "      <td>Male</td>\n",
       "      <td>No</td>\n",
       "      <td>Sun</td>\n",
       "      <td>Dinner</td>\n",
       "      <td>3</td>\n",
       "    </tr>\n",
       "    <tr>\n",
       "      <th>3</th>\n",
       "      <td>23.68</td>\n",
       "      <td>3.31</td>\n",
       "      <td>Male</td>\n",
       "      <td>No</td>\n",
       "      <td>Sun</td>\n",
       "      <td>Dinner</td>\n",
       "      <td>2</td>\n",
       "    </tr>\n",
       "    <tr>\n",
       "      <th>4</th>\n",
       "      <td>24.59</td>\n",
       "      <td>3.61</td>\n",
       "      <td>Female</td>\n",
       "      <td>No</td>\n",
       "      <td>Sun</td>\n",
       "      <td>Dinner</td>\n",
       "      <td>4</td>\n",
       "    </tr>\n",
       "    <tr>\n",
       "      <th>...</th>\n",
       "      <td>...</td>\n",
       "      <td>...</td>\n",
       "      <td>...</td>\n",
       "      <td>...</td>\n",
       "      <td>...</td>\n",
       "      <td>...</td>\n",
       "      <td>...</td>\n",
       "    </tr>\n",
       "    <tr>\n",
       "      <th>239</th>\n",
       "      <td>29.03</td>\n",
       "      <td>5.92</td>\n",
       "      <td>Male</td>\n",
       "      <td>No</td>\n",
       "      <td>Sat</td>\n",
       "      <td>Dinner</td>\n",
       "      <td>3</td>\n",
       "    </tr>\n",
       "    <tr>\n",
       "      <th>240</th>\n",
       "      <td>27.18</td>\n",
       "      <td>2.00</td>\n",
       "      <td>Female</td>\n",
       "      <td>Yes</td>\n",
       "      <td>Sat</td>\n",
       "      <td>Dinner</td>\n",
       "      <td>2</td>\n",
       "    </tr>\n",
       "    <tr>\n",
       "      <th>241</th>\n",
       "      <td>22.67</td>\n",
       "      <td>2.00</td>\n",
       "      <td>Male</td>\n",
       "      <td>Yes</td>\n",
       "      <td>Sat</td>\n",
       "      <td>Dinner</td>\n",
       "      <td>2</td>\n",
       "    </tr>\n",
       "    <tr>\n",
       "      <th>242</th>\n",
       "      <td>17.82</td>\n",
       "      <td>1.75</td>\n",
       "      <td>Male</td>\n",
       "      <td>No</td>\n",
       "      <td>Sat</td>\n",
       "      <td>Dinner</td>\n",
       "      <td>2</td>\n",
       "    </tr>\n",
       "    <tr>\n",
       "      <th>243</th>\n",
       "      <td>18.78</td>\n",
       "      <td>3.00</td>\n",
       "      <td>Female</td>\n",
       "      <td>No</td>\n",
       "      <td>Thur</td>\n",
       "      <td>Dinner</td>\n",
       "      <td>2</td>\n",
       "    </tr>\n",
       "  </tbody>\n",
       "</table>\n",
       "<p>244 rows × 7 columns</p>\n",
       "</div>"
      ],
      "text/plain": [
       "     total_bill   tip     sex smoker   day    time  size\n",
       "0         16.99  1.01  Female     No   Sun  Dinner     2\n",
       "1         10.34  1.66    Male     No   Sun  Dinner     3\n",
       "2         21.01  3.50    Male     No   Sun  Dinner     3\n",
       "3         23.68  3.31    Male     No   Sun  Dinner     2\n",
       "4         24.59  3.61  Female     No   Sun  Dinner     4\n",
       "..          ...   ...     ...    ...   ...     ...   ...\n",
       "239       29.03  5.92    Male     No   Sat  Dinner     3\n",
       "240       27.18  2.00  Female    Yes   Sat  Dinner     2\n",
       "241       22.67  2.00    Male    Yes   Sat  Dinner     2\n",
       "242       17.82  1.75    Male     No   Sat  Dinner     2\n",
       "243       18.78  3.00  Female     No  Thur  Dinner     2\n",
       "\n",
       "[244 rows x 7 columns]"
      ]
     },
     "execution_count": 12,
     "metadata": {},
     "output_type": "execute_result"
    }
   ],
   "source": [
    "tips_df = pd.read_csv('tips.csv')\n",
    "tips_df"
   ]
  },
  {
   "cell_type": "code",
   "execution_count": 13,
   "id": "e47a9c05-83fc-4f90-8ae6-483c2b552d30",
   "metadata": {},
   "outputs": [
    {
     "data": {
      "text/plain": [
       "sex\n",
       "Female    2.833448\n",
       "Male      3.089618\n",
       "Name: tip, dtype: float64"
      ]
     },
     "execution_count": 13,
     "metadata": {},
     "output_type": "execute_result"
    }
   ],
   "source": [
    "d = tips_df.groupby('sex').tip.mean()\n",
    "d"
   ]
  },
  {
   "cell_type": "code",
   "execution_count": 14,
   "id": "36d64874-f363-4b75-b56b-77990d863e67",
   "metadata": {},
   "outputs": [
    {
     "data": {
      "text/plain": [
       "np.float64(0.2561695585328354)"
      ]
     },
     "execution_count": 14,
     "metadata": {},
     "output_type": "execute_result"
    }
   ],
   "source": [
    "diff = d.Male - d.Female\n",
    "diff"
   ]
  },
  {
   "cell_type": "markdown",
   "id": "2ff09fe0-0149-4b0b-8192-8a14f5be244b",
   "metadata": {},
   "source": [
    "# เราสังเกตว่าค่าเฉลี่ย Tips ของ ผช มากกว่า ผญ\n",
    "เราต้องการพิสูจน์ว่าผู้ชายให้ Tips มากกว่าจริงหรือเปล่า"
   ]
  },
  {
   "cell_type": "code",
   "execution_count": 15,
   "id": "e05e9ed1-53a1-454c-863a-0125bf3d7114",
   "metadata": {},
   "outputs": [
    {
     "data": {
      "text/plain": [
       "sex\n",
       "Female     87\n",
       "Male      157\n",
       "dtype: int64"
      ]
     },
     "execution_count": 15,
     "metadata": {},
     "output_type": "execute_result"
    }
   ],
   "source": [
    "tips_df.groupby('sex').size()"
   ]
  },
  {
   "cell_type": "markdown",
   "id": "a4cd6738-5a30-4a44-97fe-a6b46ed2cf4e",
   "metadata": {},
   "source": [
    "$$\n",
    "H_0: \\text{ผู้ชายให้ Tips มากกว่าผู้หญิงนั้นเป็นเรื่องบังเอิญ (จริงๆ แล้วให้เท่าๆ กันทั้ง 2 เพศ อย่างละ 0.5)}\n",
    "$$\n",
    "\n",
    "$$\n",
    "H_1: \\text{ผู้ชายให้ Tips มากกว่าผู้หญิงเป็นเรื่องจริงอย่างที่เห็นนั่นแหละ}\n",
    "$$\n"
   ]
  },
  {
   "cell_type": "code",
   "execution_count": 16,
   "id": "370e9c76-e329-42c5-acbb-076bd538e4c3",
   "metadata": {},
   "outputs": [],
   "source": [
    "H0 = 'ผู้ชายให้ Tips มากกว่าผู้หญิงนั้นเป็นเรื่องบังเอิญ (จริงๆแล้วให้เท่าๆกันทั้ง 2 เพศ อย่างละ 0.5)'\n",
    "H1 = 'ผู้ชายให้ Tips มากกว่าผู้หญิงเป็นเรื่องจริงอย่างที่เห็นนั่นแหละ'\n",
    "alpha = 0.10"
   ]
  },
  {
   "cell_type": "markdown",
   "id": "52a3b110-fb96-4eee-9e36-4bf1785b7449",
   "metadata": {},
   "source": [
    "## หา p_value"
   ]
  },
  {
   "cell_type": "code",
   "execution_count": 17,
   "id": "041c9a82-15f4-47b0-bfae-c2b7cb192f48",
   "metadata": {},
   "outputs": [],
   "source": [
    "grp_A = tips_df.sample(87) #สุ่มมา 87 และ 157 โดยที่ไม่ดูเพศ\n",
    "grp_B = tips_df.drop(grp_A.index, axis=0) #ฺ B ก็คือไม่เอา A"
   ]
  },
  {
   "cell_type": "code",
   "execution_count": 18,
   "id": "4d7e4164-1c68-4e17-961b-a01b10b3889d",
   "metadata": {},
   "outputs": [
    {
     "data": {
      "text/html": [
       "<div>\n",
       "<style scoped>\n",
       "    .dataframe tbody tr th:only-of-type {\n",
       "        vertical-align: middle;\n",
       "    }\n",
       "\n",
       "    .dataframe tbody tr th {\n",
       "        vertical-align: top;\n",
       "    }\n",
       "\n",
       "    .dataframe thead th {\n",
       "        text-align: right;\n",
       "    }\n",
       "</style>\n",
       "<table border=\"1\" class=\"dataframe\">\n",
       "  <thead>\n",
       "    <tr style=\"text-align: right;\">\n",
       "      <th></th>\n",
       "      <th>total_bill</th>\n",
       "      <th>tip</th>\n",
       "      <th>sex</th>\n",
       "      <th>smoker</th>\n",
       "      <th>day</th>\n",
       "      <th>time</th>\n",
       "      <th>size</th>\n",
       "    </tr>\n",
       "  </thead>\n",
       "  <tbody>\n",
       "    <tr>\n",
       "      <th>167</th>\n",
       "      <td>31.71</td>\n",
       "      <td>4.50</td>\n",
       "      <td>Male</td>\n",
       "      <td>No</td>\n",
       "      <td>Sun</td>\n",
       "      <td>Dinner</td>\n",
       "      <td>4</td>\n",
       "    </tr>\n",
       "    <tr>\n",
       "      <th>63</th>\n",
       "      <td>18.29</td>\n",
       "      <td>3.76</td>\n",
       "      <td>Male</td>\n",
       "      <td>Yes</td>\n",
       "      <td>Sat</td>\n",
       "      <td>Dinner</td>\n",
       "      <td>4</td>\n",
       "    </tr>\n",
       "    <tr>\n",
       "      <th>228</th>\n",
       "      <td>13.28</td>\n",
       "      <td>2.72</td>\n",
       "      <td>Male</td>\n",
       "      <td>No</td>\n",
       "      <td>Sat</td>\n",
       "      <td>Dinner</td>\n",
       "      <td>2</td>\n",
       "    </tr>\n",
       "    <tr>\n",
       "      <th>129</th>\n",
       "      <td>22.82</td>\n",
       "      <td>2.18</td>\n",
       "      <td>Male</td>\n",
       "      <td>No</td>\n",
       "      <td>Thur</td>\n",
       "      <td>Lunch</td>\n",
       "      <td>3</td>\n",
       "    </tr>\n",
       "    <tr>\n",
       "      <th>55</th>\n",
       "      <td>19.49</td>\n",
       "      <td>3.51</td>\n",
       "      <td>Male</td>\n",
       "      <td>No</td>\n",
       "      <td>Sun</td>\n",
       "      <td>Dinner</td>\n",
       "      <td>2</td>\n",
       "    </tr>\n",
       "    <tr>\n",
       "      <th>...</th>\n",
       "      <td>...</td>\n",
       "      <td>...</td>\n",
       "      <td>...</td>\n",
       "      <td>...</td>\n",
       "      <td>...</td>\n",
       "      <td>...</td>\n",
       "      <td>...</td>\n",
       "    </tr>\n",
       "    <tr>\n",
       "      <th>187</th>\n",
       "      <td>30.46</td>\n",
       "      <td>2.00</td>\n",
       "      <td>Male</td>\n",
       "      <td>Yes</td>\n",
       "      <td>Sun</td>\n",
       "      <td>Dinner</td>\n",
       "      <td>5</td>\n",
       "    </tr>\n",
       "    <tr>\n",
       "      <th>206</th>\n",
       "      <td>26.59</td>\n",
       "      <td>3.41</td>\n",
       "      <td>Male</td>\n",
       "      <td>Yes</td>\n",
       "      <td>Sat</td>\n",
       "      <td>Dinner</td>\n",
       "      <td>3</td>\n",
       "    </tr>\n",
       "    <tr>\n",
       "      <th>207</th>\n",
       "      <td>38.73</td>\n",
       "      <td>3.00</td>\n",
       "      <td>Male</td>\n",
       "      <td>Yes</td>\n",
       "      <td>Sat</td>\n",
       "      <td>Dinner</td>\n",
       "      <td>4</td>\n",
       "    </tr>\n",
       "    <tr>\n",
       "      <th>83</th>\n",
       "      <td>32.68</td>\n",
       "      <td>5.00</td>\n",
       "      <td>Male</td>\n",
       "      <td>Yes</td>\n",
       "      <td>Thur</td>\n",
       "      <td>Lunch</td>\n",
       "      <td>2</td>\n",
       "    </tr>\n",
       "    <tr>\n",
       "      <th>69</th>\n",
       "      <td>15.01</td>\n",
       "      <td>2.09</td>\n",
       "      <td>Male</td>\n",
       "      <td>Yes</td>\n",
       "      <td>Sat</td>\n",
       "      <td>Dinner</td>\n",
       "      <td>2</td>\n",
       "    </tr>\n",
       "  </tbody>\n",
       "</table>\n",
       "<p>87 rows × 7 columns</p>\n",
       "</div>"
      ],
      "text/plain": [
       "     total_bill   tip   sex smoker   day    time  size\n",
       "167       31.71  4.50  Male     No   Sun  Dinner     4\n",
       "63        18.29  3.76  Male    Yes   Sat  Dinner     4\n",
       "228       13.28  2.72  Male     No   Sat  Dinner     2\n",
       "129       22.82  2.18  Male     No  Thur   Lunch     3\n",
       "55        19.49  3.51  Male     No   Sun  Dinner     2\n",
       "..          ...   ...   ...    ...   ...     ...   ...\n",
       "187       30.46  2.00  Male    Yes   Sun  Dinner     5\n",
       "206       26.59  3.41  Male    Yes   Sat  Dinner     3\n",
       "207       38.73  3.00  Male    Yes   Sat  Dinner     4\n",
       "83        32.68  5.00  Male    Yes  Thur   Lunch     2\n",
       "69        15.01  2.09  Male    Yes   Sat  Dinner     2\n",
       "\n",
       "[87 rows x 7 columns]"
      ]
     },
     "execution_count": 18,
     "metadata": {},
     "output_type": "execute_result"
    }
   ],
   "source": [
    "grp_A"
   ]
  },
  {
   "cell_type": "code",
   "execution_count": 19,
   "id": "30e7f01e-986d-468d-9699-386c028260d6",
   "metadata": {},
   "outputs": [
    {
     "data": {
      "text/html": [
       "<div>\n",
       "<style scoped>\n",
       "    .dataframe tbody tr th:only-of-type {\n",
       "        vertical-align: middle;\n",
       "    }\n",
       "\n",
       "    .dataframe tbody tr th {\n",
       "        vertical-align: top;\n",
       "    }\n",
       "\n",
       "    .dataframe thead th {\n",
       "        text-align: right;\n",
       "    }\n",
       "</style>\n",
       "<table border=\"1\" class=\"dataframe\">\n",
       "  <thead>\n",
       "    <tr style=\"text-align: right;\">\n",
       "      <th></th>\n",
       "      <th>total_bill</th>\n",
       "      <th>tip</th>\n",
       "      <th>sex</th>\n",
       "      <th>smoker</th>\n",
       "      <th>day</th>\n",
       "      <th>time</th>\n",
       "      <th>size</th>\n",
       "    </tr>\n",
       "  </thead>\n",
       "  <tbody>\n",
       "    <tr>\n",
       "      <th>2</th>\n",
       "      <td>21.01</td>\n",
       "      <td>3.50</td>\n",
       "      <td>Male</td>\n",
       "      <td>No</td>\n",
       "      <td>Sun</td>\n",
       "      <td>Dinner</td>\n",
       "      <td>3</td>\n",
       "    </tr>\n",
       "    <tr>\n",
       "      <th>3</th>\n",
       "      <td>23.68</td>\n",
       "      <td>3.31</td>\n",
       "      <td>Male</td>\n",
       "      <td>No</td>\n",
       "      <td>Sun</td>\n",
       "      <td>Dinner</td>\n",
       "      <td>2</td>\n",
       "    </tr>\n",
       "    <tr>\n",
       "      <th>4</th>\n",
       "      <td>24.59</td>\n",
       "      <td>3.61</td>\n",
       "      <td>Female</td>\n",
       "      <td>No</td>\n",
       "      <td>Sun</td>\n",
       "      <td>Dinner</td>\n",
       "      <td>4</td>\n",
       "    </tr>\n",
       "    <tr>\n",
       "      <th>5</th>\n",
       "      <td>25.29</td>\n",
       "      <td>4.71</td>\n",
       "      <td>Male</td>\n",
       "      <td>No</td>\n",
       "      <td>Sun</td>\n",
       "      <td>Dinner</td>\n",
       "      <td>4</td>\n",
       "    </tr>\n",
       "    <tr>\n",
       "      <th>6</th>\n",
       "      <td>8.77</td>\n",
       "      <td>2.00</td>\n",
       "      <td>Male</td>\n",
       "      <td>No</td>\n",
       "      <td>Sun</td>\n",
       "      <td>Dinner</td>\n",
       "      <td>2</td>\n",
       "    </tr>\n",
       "    <tr>\n",
       "      <th>...</th>\n",
       "      <td>...</td>\n",
       "      <td>...</td>\n",
       "      <td>...</td>\n",
       "      <td>...</td>\n",
       "      <td>...</td>\n",
       "      <td>...</td>\n",
       "      <td>...</td>\n",
       "    </tr>\n",
       "    <tr>\n",
       "      <th>238</th>\n",
       "      <td>35.83</td>\n",
       "      <td>4.67</td>\n",
       "      <td>Female</td>\n",
       "      <td>No</td>\n",
       "      <td>Sat</td>\n",
       "      <td>Dinner</td>\n",
       "      <td>3</td>\n",
       "    </tr>\n",
       "    <tr>\n",
       "      <th>239</th>\n",
       "      <td>29.03</td>\n",
       "      <td>5.92</td>\n",
       "      <td>Male</td>\n",
       "      <td>No</td>\n",
       "      <td>Sat</td>\n",
       "      <td>Dinner</td>\n",
       "      <td>3</td>\n",
       "    </tr>\n",
       "    <tr>\n",
       "      <th>240</th>\n",
       "      <td>27.18</td>\n",
       "      <td>2.00</td>\n",
       "      <td>Female</td>\n",
       "      <td>Yes</td>\n",
       "      <td>Sat</td>\n",
       "      <td>Dinner</td>\n",
       "      <td>2</td>\n",
       "    </tr>\n",
       "    <tr>\n",
       "      <th>241</th>\n",
       "      <td>22.67</td>\n",
       "      <td>2.00</td>\n",
       "      <td>Male</td>\n",
       "      <td>Yes</td>\n",
       "      <td>Sat</td>\n",
       "      <td>Dinner</td>\n",
       "      <td>2</td>\n",
       "    </tr>\n",
       "    <tr>\n",
       "      <th>243</th>\n",
       "      <td>18.78</td>\n",
       "      <td>3.00</td>\n",
       "      <td>Female</td>\n",
       "      <td>No</td>\n",
       "      <td>Thur</td>\n",
       "      <td>Dinner</td>\n",
       "      <td>2</td>\n",
       "    </tr>\n",
       "  </tbody>\n",
       "</table>\n",
       "<p>157 rows × 7 columns</p>\n",
       "</div>"
      ],
      "text/plain": [
       "     total_bill   tip     sex smoker   day    time  size\n",
       "2         21.01  3.50    Male     No   Sun  Dinner     3\n",
       "3         23.68  3.31    Male     No   Sun  Dinner     2\n",
       "4         24.59  3.61  Female     No   Sun  Dinner     4\n",
       "5         25.29  4.71    Male     No   Sun  Dinner     4\n",
       "6          8.77  2.00    Male     No   Sun  Dinner     2\n",
       "..          ...   ...     ...    ...   ...     ...   ...\n",
       "238       35.83  4.67  Female     No   Sat  Dinner     3\n",
       "239       29.03  5.92    Male     No   Sat  Dinner     3\n",
       "240       27.18  2.00  Female    Yes   Sat  Dinner     2\n",
       "241       22.67  2.00    Male    Yes   Sat  Dinner     2\n",
       "243       18.78  3.00  Female     No  Thur  Dinner     2\n",
       "\n",
       "[157 rows x 7 columns]"
      ]
     },
     "execution_count": 19,
     "metadata": {},
     "output_type": "execute_result"
    }
   ],
   "source": [
    "grp_B"
   ]
  },
  {
   "cell_type": "code",
   "execution_count": 20,
   "id": "b98b0d59-3b0b-44f0-bfe1-1488c0748b9d",
   "metadata": {},
   "outputs": [
    {
     "data": {
      "text/plain": [
       "np.float64(0.21990628889376929)"
      ]
     },
     "execution_count": 20,
     "metadata": {},
     "output_type": "execute_result"
    }
   ],
   "source": [
    "grp_B.tip.mean() - grp_A.tip.mean()"
   ]
  },
  {
   "cell_type": "markdown",
   "id": "9e56b18c-d797-491c-9e45-46819debcd06",
   "metadata": {},
   "source": [
    "## เรามาลองทำ 1000 รอบดู"
   ]
  },
  {
   "cell_type": "code",
   "execution_count": 21,
   "id": "831ee9dc-693f-48cb-85fb-bf05653bc95f",
   "metadata": {},
   "outputs": [
    {
     "data": {
      "text/plain": [
       "0      0.270639\n",
       "1     -0.153981\n",
       "2     -0.223113\n",
       "3      0.221693\n",
       "4      0.062170\n",
       "         ...   \n",
       "995   -0.287244\n",
       "996    0.101827\n",
       "997   -0.213645\n",
       "998    0.323516\n",
       "999    0.002148\n",
       "Name: diffenence, Length: 1000, dtype: float64"
      ]
     },
     "execution_count": 21,
     "metadata": {},
     "output_type": "execute_result"
    }
   ],
   "source": [
    "diff_ls = []\n",
    "for i in range(1000):\n",
    "    grp_A = tips_df.sample(87)\n",
    "    grp_B = tips_df.drop(grp_A.index, axis=0)\n",
    "    \n",
    "    diff_ls.append(grp_B.tip.mean() - grp_A.tip.mean())\n",
    "\n",
    "diff_s = pd.Series(diff_ls, name='diffenence')\n",
    "diff_s"
   ]
  },
  {
   "cell_type": "code",
   "execution_count": 22,
   "id": "81d6a436-754d-4b85-840b-c3100b0e7800",
   "metadata": {},
   "outputs": [
    {
     "data": {
      "image/png": "[encoded data removed]",
      "text/plain": [
       "<Figure size 300x300 with 1 Axes>"
      ]
     },
     "metadata": {},
     "output_type": "display_data"
    }
   ],
   "source": [
    "g = sns.displot(diff_s, height=3, kind='kde')\n",
    "\n",
    "# Add vertical line to the correct axis\n",
    "for ax in g.axes.flat:\n",
    "    ax.axvline(diff, color='r')"
   ]
  },
  {
   "cell_type": "code",
   "execution_count": 23,
   "id": "c5b1ab8b-71d7-44b6-a3ab-12c726ce11a2",
   "metadata": {},
   "outputs": [
    {
     "data": {
      "text/plain": [
       "np.float64(0.082)"
      ]
     },
     "execution_count": 23,
     "metadata": {},
     "output_type": "execute_result"
    }
   ],
   "source": [
    "p_value = (diff_s >= diff).sum() / 1000\n",
    "p_value"
   ]
  },
  {
   "cell_type": "code",
   "execution_count": 24,
   "id": "58f90d9c-3d7d-4930-ae17-d06cb94588e6",
   "metadata": {},
   "outputs": [
    {
     "name": "stdout",
     "output_type": "stream",
     "text": [
      "H1 Accepted: ผู้ชายให้ Tips มากกว่าผู้หญิงเป็นเรื่องจริงอย่างที่เห็นนั่นแหละ\n"
     ]
    }
   ],
   "source": [
    "if (p_value <= alpha):\n",
    "    print(f\"H1 Accepted: {H1}\")\n",
    "else:\n",
    "    print(f\"H0 Accepted: {H0}\")"
   ]
  },
  {
   "cell_type": "code",
   "execution_count": 26,
   "id": "518ae130-9f60-4dca-83c3-9c9c5f6e70ef",
   "metadata": {},
   "outputs": [
    {
     "data": {
      "text/plain": [
       "TtestResult(statistic=np.float64(1.387859705421269), pvalue=np.float64(0.08322811751728378), df=np.float64(242.0))"
      ]
     },
     "execution_count": 26,
     "metadata": {},
     "output_type": "execute_result"
    }
   ],
   "source": [
    "scipy.stats.ttest_ind(tips_df.query('sex == \"Male\"').tip,\n",
    "                     tips_df.query('sex == \"Female\"').tip,\n",
    "                     alternative='greater')"
   ]
  }
 ],
 "metadata": {
  "kernelspec": {
   "display_name": "Python 3 (ipykernel)",
   "language": "python",
   "name": "python3"
  },
  "language_info": {
   "codemirror_mode": {
    "name": "ipython",
    "version": 3
   },
   "file_extension": ".py",
   "mimetype": "text/x-python",
   "name": "python",
   "nbconvert_exporter": "python",
   "pygments_lexer": "ipython3",
   "version": "3.13.1"
  }
 },
 "nbformat": 4,
 "nbformat_minor": 5
}
