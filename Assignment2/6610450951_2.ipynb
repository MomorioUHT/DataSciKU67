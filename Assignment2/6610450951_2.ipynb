{
 "cells": [
  {
   "cell_type": "markdown",
   "id": "885261d0-019f-40aa-b76a-2871bfdbea02",
   "metadata": {},
   "source": [
    "## 6610450951 Tontawan Janthai"
   ]
  },
  {
   "cell_type": "markdown",
   "id": "1810c5e6-cd38-4a75-b78d-a8b6af06984e",
   "metadata": {},
   "source": [
    "## 1"
   ]
  },
  {
   "cell_type": "code",
   "execution_count": 1,
   "id": "cf904be0-7831-492f-9af4-9db57fcf2117",
   "metadata": {},
   "outputs": [
    {
     "data": {
      "text/html": [
       "<div>\n",
       "<style scoped>\n",
       "    .dataframe tbody tr th:only-of-type {\n",
       "        vertical-align: middle;\n",
       "    }\n",
       "\n",
       "    .dataframe tbody tr th {\n",
       "        vertical-align: top;\n",
       "    }\n",
       "\n",
       "    .dataframe thead th {\n",
       "        text-align: right;\n",
       "    }\n",
       "</style>\n",
       "<table border=\"1\" class=\"dataframe\">\n",
       "  <thead>\n",
       "    <tr style=\"text-align: right;\">\n",
       "      <th></th>\n",
       "      <th>Time</th>\n",
       "      <th>Latitude</th>\n",
       "      <th>Longitude</th>\n",
       "      <th>Depth/Km</th>\n",
       "      <th>Magnitude</th>\n",
       "    </tr>\n",
       "  </thead>\n",
       "  <tbody>\n",
       "    <tr>\n",
       "      <th>0</th>\n",
       "      <td>2016-08-24 03:36:32.000</td>\n",
       "      <td>42.6983</td>\n",
       "      <td>13.2335</td>\n",
       "      <td>8.1</td>\n",
       "      <td>6.0</td>\n",
       "    </tr>\n",
       "    <tr>\n",
       "      <th>1</th>\n",
       "      <td>2016-08-24 03:37:26.580</td>\n",
       "      <td>42.7123</td>\n",
       "      <td>13.2533</td>\n",
       "      <td>9.0</td>\n",
       "      <td>4.5</td>\n",
       "    </tr>\n",
       "    <tr>\n",
       "      <th>2</th>\n",
       "      <td>2016-08-24 03:40:46.590</td>\n",
       "      <td>42.7647</td>\n",
       "      <td>13.1723</td>\n",
       "      <td>9.7</td>\n",
       "      <td>3.8</td>\n",
       "    </tr>\n",
       "    <tr>\n",
       "      <th>3</th>\n",
       "      <td>2016-08-24 03:41:38.900</td>\n",
       "      <td>42.7803</td>\n",
       "      <td>13.1683</td>\n",
       "      <td>9.7</td>\n",
       "      <td>3.9</td>\n",
       "    </tr>\n",
       "    <tr>\n",
       "      <th>4</th>\n",
       "      <td>2016-08-24 03:42:07.170</td>\n",
       "      <td>42.7798</td>\n",
       "      <td>13.1575</td>\n",
       "      <td>9.7</td>\n",
       "      <td>3.6</td>\n",
       "    </tr>\n",
       "    <tr>\n",
       "      <th>...</th>\n",
       "      <td>...</td>\n",
       "      <td>...</td>\n",
       "      <td>...</td>\n",
       "      <td>...</td>\n",
       "      <td>...</td>\n",
       "    </tr>\n",
       "    <tr>\n",
       "      <th>8081</th>\n",
       "      <td>2016-11-30 18:39:27.600</td>\n",
       "      <td>42.8903</td>\n",
       "      <td>13.0197</td>\n",
       "      <td>10.7</td>\n",
       "      <td>2.0</td>\n",
       "    </tr>\n",
       "    <tr>\n",
       "      <th>8082</th>\n",
       "      <td>2016-11-30 18:43:14.850</td>\n",
       "      <td>42.9443</td>\n",
       "      <td>13.2003</td>\n",
       "      <td>8.6</td>\n",
       "      <td>2.6</td>\n",
       "    </tr>\n",
       "    <tr>\n",
       "      <th>8083</th>\n",
       "      <td>2016-11-30 20:18:27.550</td>\n",
       "      <td>43.0092</td>\n",
       "      <td>13.1288</td>\n",
       "      <td>8.0</td>\n",
       "      <td>2.2</td>\n",
       "    </tr>\n",
       "    <tr>\n",
       "      <th>8084</th>\n",
       "      <td>2016-11-30 20:45:11.780</td>\n",
       "      <td>43.0197</td>\n",
       "      <td>13.1017</td>\n",
       "      <td>9.3</td>\n",
       "      <td>2.7</td>\n",
       "    </tr>\n",
       "    <tr>\n",
       "      <th>8085</th>\n",
       "      <td>2016-11-30 20:54:35.890</td>\n",
       "      <td>42.9935</td>\n",
       "      <td>13.0753</td>\n",
       "      <td>9.5</td>\n",
       "      <td>2.3</td>\n",
       "    </tr>\n",
       "  </tbody>\n",
       "</table>\n",
       "<p>8086 rows × 5 columns</p>\n",
       "</div>"
      ],
      "text/plain": [
       "                         Time  Latitude  Longitude  Depth/Km  Magnitude\n",
       "0     2016-08-24 03:36:32.000   42.6983    13.2335       8.1        6.0\n",
       "1     2016-08-24 03:37:26.580   42.7123    13.2533       9.0        4.5\n",
       "2     2016-08-24 03:40:46.590   42.7647    13.1723       9.7        3.8\n",
       "3     2016-08-24 03:41:38.900   42.7803    13.1683       9.7        3.9\n",
       "4     2016-08-24 03:42:07.170   42.7798    13.1575       9.7        3.6\n",
       "...                       ...       ...        ...       ...        ...\n",
       "8081  2016-11-30 18:39:27.600   42.8903    13.0197      10.7        2.0\n",
       "8082  2016-11-30 18:43:14.850   42.9443    13.2003       8.6        2.6\n",
       "8083  2016-11-30 20:18:27.550   43.0092    13.1288       8.0        2.2\n",
       "8084  2016-11-30 20:45:11.780   43.0197    13.1017       9.3        2.7\n",
       "8085  2016-11-30 20:54:35.890   42.9935    13.0753       9.5        2.3\n",
       "\n",
       "[8086 rows x 5 columns]"
      ]
     },
     "execution_count": 1,
     "metadata": {},
     "output_type": "execute_result"
    }
   ],
   "source": [
    "import pandas as pd\n",
    "df = pd.read_csv('italy_earthquakes_from_2016-08-24_to_2016-11-30.csv')\n",
    "df"
   ]
  },
  {
   "cell_type": "markdown",
   "id": "c8d50fe1-83cf-446c-954d-79c1c4657b2b",
   "metadata": {},
   "source": [
    "## 2"
   ]
  },
  {
   "cell_type": "code",
   "execution_count": 2,
   "id": "c0ea6365-defb-4c57-bf2d-333b5f659256",
   "metadata": {},
   "outputs": [
    {
     "data": {
      "text/html": [
       "<div>\n",
       "<style scoped>\n",
       "    .dataframe tbody tr th:only-of-type {\n",
       "        vertical-align: middle;\n",
       "    }\n",
       "\n",
       "    .dataframe tbody tr th {\n",
       "        vertical-align: top;\n",
       "    }\n",
       "\n",
       "    .dataframe thead th {\n",
       "        text-align: right;\n",
       "    }\n",
       "</style>\n",
       "<table border=\"1\" class=\"dataframe\">\n",
       "  <thead>\n",
       "    <tr style=\"text-align: right;\">\n",
       "      <th></th>\n",
       "      <th>Latitude</th>\n",
       "      <th>Longitude</th>\n",
       "      <th>Depth/Km</th>\n",
       "      <th>Magnitude</th>\n",
       "    </tr>\n",
       "    <tr>\n",
       "      <th>Timestamp</th>\n",
       "      <th></th>\n",
       "      <th></th>\n",
       "      <th></th>\n",
       "      <th></th>\n",
       "    </tr>\n",
       "  </thead>\n",
       "  <tbody>\n",
       "    <tr>\n",
       "      <th>2016-08-24 03:36:32.000</th>\n",
       "      <td>42.6983</td>\n",
       "      <td>13.2335</td>\n",
       "      <td>8.1</td>\n",
       "      <td>6.0</td>\n",
       "    </tr>\n",
       "    <tr>\n",
       "      <th>2016-08-24 03:37:26.580</th>\n",
       "      <td>42.7123</td>\n",
       "      <td>13.2533</td>\n",
       "      <td>9.0</td>\n",
       "      <td>4.5</td>\n",
       "    </tr>\n",
       "    <tr>\n",
       "      <th>2016-08-24 03:40:46.590</th>\n",
       "      <td>42.7647</td>\n",
       "      <td>13.1723</td>\n",
       "      <td>9.7</td>\n",
       "      <td>3.8</td>\n",
       "    </tr>\n",
       "    <tr>\n",
       "      <th>2016-08-24 03:41:38.900</th>\n",
       "      <td>42.7803</td>\n",
       "      <td>13.1683</td>\n",
       "      <td>9.7</td>\n",
       "      <td>3.9</td>\n",
       "    </tr>\n",
       "    <tr>\n",
       "      <th>2016-08-24 03:42:07.170</th>\n",
       "      <td>42.7798</td>\n",
       "      <td>13.1575</td>\n",
       "      <td>9.7</td>\n",
       "      <td>3.6</td>\n",
       "    </tr>\n",
       "    <tr>\n",
       "      <th>...</th>\n",
       "      <td>...</td>\n",
       "      <td>...</td>\n",
       "      <td>...</td>\n",
       "      <td>...</td>\n",
       "    </tr>\n",
       "    <tr>\n",
       "      <th>2016-11-30 18:39:27.600</th>\n",
       "      <td>42.8903</td>\n",
       "      <td>13.0197</td>\n",
       "      <td>10.7</td>\n",
       "      <td>2.0</td>\n",
       "    </tr>\n",
       "    <tr>\n",
       "      <th>2016-11-30 18:43:14.850</th>\n",
       "      <td>42.9443</td>\n",
       "      <td>13.2003</td>\n",
       "      <td>8.6</td>\n",
       "      <td>2.6</td>\n",
       "    </tr>\n",
       "    <tr>\n",
       "      <th>2016-11-30 20:18:27.550</th>\n",
       "      <td>43.0092</td>\n",
       "      <td>13.1288</td>\n",
       "      <td>8.0</td>\n",
       "      <td>2.2</td>\n",
       "    </tr>\n",
       "    <tr>\n",
       "      <th>2016-11-30 20:45:11.780</th>\n",
       "      <td>43.0197</td>\n",
       "      <td>13.1017</td>\n",
       "      <td>9.3</td>\n",
       "      <td>2.7</td>\n",
       "    </tr>\n",
       "    <tr>\n",
       "      <th>2016-11-30 20:54:35.890</th>\n",
       "      <td>42.9935</td>\n",
       "      <td>13.0753</td>\n",
       "      <td>9.5</td>\n",
       "      <td>2.3</td>\n",
       "    </tr>\n",
       "  </tbody>\n",
       "</table>\n",
       "<p>8086 rows × 4 columns</p>\n",
       "</div>"
      ],
      "text/plain": [
       "                         Latitude  Longitude  Depth/Km  Magnitude\n",
       "Timestamp                                                        \n",
       "2016-08-24 03:36:32.000   42.6983    13.2335       8.1        6.0\n",
       "2016-08-24 03:37:26.580   42.7123    13.2533       9.0        4.5\n",
       "2016-08-24 03:40:46.590   42.7647    13.1723       9.7        3.8\n",
       "2016-08-24 03:41:38.900   42.7803    13.1683       9.7        3.9\n",
       "2016-08-24 03:42:07.170   42.7798    13.1575       9.7        3.6\n",
       "...                           ...        ...       ...        ...\n",
       "2016-11-30 18:39:27.600   42.8903    13.0197      10.7        2.0\n",
       "2016-11-30 18:43:14.850   42.9443    13.2003       8.6        2.6\n",
       "2016-11-30 20:18:27.550   43.0092    13.1288       8.0        2.2\n",
       "2016-11-30 20:45:11.780   43.0197    13.1017       9.3        2.7\n",
       "2016-11-30 20:54:35.890   42.9935    13.0753       9.5        2.3\n",
       "\n",
       "[8086 rows x 4 columns]"
      ]
     },
     "execution_count": 2,
     "metadata": {},
     "output_type": "execute_result"
    }
   ],
   "source": [
    "df['Timestamp'] = pd.to_datetime(df.Time)\n",
    "df.set_index('Timestamp', inplace=True)\n",
    "df.drop('Time', axis='columns', inplace=True)\n",
    "df.sort_index(inplace=True)\n",
    "df"
   ]
  },
  {
   "cell_type": "markdown",
   "id": "76fc5b9d-beb5-4755-9345-411b0840e573",
   "metadata": {},
   "source": [
    "## 3"
   ]
  },
  {
   "cell_type": "code",
   "execution_count": 3,
   "id": "f0effe43-e101-44ad-8901-f530a55b2657",
   "metadata": {},
   "outputs": [
    {
     "data": {
      "text/html": [
       "<div>\n",
       "<style scoped>\n",
       "    .dataframe tbody tr th:only-of-type {\n",
       "        vertical-align: middle;\n",
       "    }\n",
       "\n",
       "    .dataframe tbody tr th {\n",
       "        vertical-align: top;\n",
       "    }\n",
       "\n",
       "    .dataframe thead th {\n",
       "        text-align: right;\n",
       "    }\n",
       "</style>\n",
       "<table border=\"1\" class=\"dataframe\">\n",
       "  <thead>\n",
       "    <tr style=\"text-align: right;\">\n",
       "      <th></th>\n",
       "      <th>Latitude</th>\n",
       "      <th>Longitude</th>\n",
       "      <th>Depth/Km</th>\n",
       "      <th>Magnitude</th>\n",
       "    </tr>\n",
       "    <tr>\n",
       "      <th>Timestamp</th>\n",
       "      <th></th>\n",
       "      <th></th>\n",
       "      <th></th>\n",
       "      <th></th>\n",
       "    </tr>\n",
       "  </thead>\n",
       "  <tbody>\n",
       "    <tr>\n",
       "      <th>2016-10-30 08:40:17.360</th>\n",
       "      <td>42.8322</td>\n",
       "      <td>13.1107</td>\n",
       "      <td>9.2</td>\n",
       "      <td>6.5</td>\n",
       "    </tr>\n",
       "  </tbody>\n",
       "</table>\n",
       "</div>"
      ],
      "text/plain": [
       "                         Latitude  Longitude  Depth/Km  Magnitude\n",
       "Timestamp                                                        \n",
       "2016-10-30 08:40:17.360   42.8322    13.1107       9.2        6.5"
      ]
     },
     "execution_count": 3,
     "metadata": {},
     "output_type": "execute_result"
    }
   ],
   "source": [
    "df[df.Magnitude==df.Magnitude.max()]"
   ]
  },
  {
   "cell_type": "markdown",
   "id": "4f51505f-5d90-4bd0-b525-e99c97ad981f",
   "metadata": {},
   "source": [
    "## 4"
   ]
  },
  {
   "cell_type": "code",
   "execution_count": 4,
   "id": "07e5d2ff-4980-4e64-9505-914452b20a56",
   "metadata": {},
   "outputs": [
    {
     "data": {
      "text/plain": [
       "389"
      ]
     },
     "execution_count": 4,
     "metadata": {},
     "output_type": "execute_result"
    }
   ],
   "source": [
    "df.loc['2016-10-30'].shape[0]"
   ]
  },
  {
   "cell_type": "markdown",
   "id": "b6ef2396-20fd-450a-a1d3-9474ced20066",
   "metadata": {},
   "source": [
    "# 5"
   ]
  },
  {
   "cell_type": "code",
   "execution_count": 5,
   "id": "1c358c42-9e35-4aa0-9ef7-99a4a28f1b15",
   "metadata": {},
   "outputs": [
    {
     "data": {
      "text/html": [
       "<div>\n",
       "<style scoped>\n",
       "    .dataframe tbody tr th:only-of-type {\n",
       "        vertical-align: middle;\n",
       "    }\n",
       "\n",
       "    .dataframe tbody tr th {\n",
       "        vertical-align: top;\n",
       "    }\n",
       "\n",
       "    .dataframe thead th {\n",
       "        text-align: right;\n",
       "    }\n",
       "</style>\n",
       "<table border=\"1\" class=\"dataframe\">\n",
       "  <thead>\n",
       "    <tr style=\"text-align: right;\">\n",
       "      <th></th>\n",
       "      <th>Latitude</th>\n",
       "      <th>Longitude</th>\n",
       "      <th>Depth/Km</th>\n",
       "      <th>Magnitude</th>\n",
       "    </tr>\n",
       "    <tr>\n",
       "      <th>Timestamp</th>\n",
       "      <th></th>\n",
       "      <th></th>\n",
       "      <th></th>\n",
       "      <th></th>\n",
       "    </tr>\n",
       "  </thead>\n",
       "  <tbody>\n",
       "    <tr>\n",
       "      <th>2016-10-30 07:01:14.060</th>\n",
       "      <td>42.8522</td>\n",
       "      <td>13.2443</td>\n",
       "      <td>8.9</td>\n",
       "      <td>2.4</td>\n",
       "    </tr>\n",
       "    <tr>\n",
       "      <th>2016-10-30 07:02:48.160</th>\n",
       "      <td>42.8538</td>\n",
       "      <td>13.2342</td>\n",
       "      <td>8.3</td>\n",
       "      <td>2.5</td>\n",
       "    </tr>\n",
       "    <tr>\n",
       "      <th>2016-10-30 07:14:48.470</th>\n",
       "      <td>42.8737</td>\n",
       "      <td>13.1502</td>\n",
       "      <td>9.2</td>\n",
       "      <td>2.4</td>\n",
       "    </tr>\n",
       "    <tr>\n",
       "      <th>2016-10-30 07:31:51.660</th>\n",
       "      <td>42.8753</td>\n",
       "      <td>13.0563</td>\n",
       "      <td>9.9</td>\n",
       "      <td>2.2</td>\n",
       "    </tr>\n",
       "    <tr>\n",
       "      <th>2016-10-30 08:04:07.760</th>\n",
       "      <td>42.7907</td>\n",
       "      <td>13.0872</td>\n",
       "      <td>10.2</td>\n",
       "      <td>2.4</td>\n",
       "    </tr>\n",
       "    <tr>\n",
       "      <th>2016-10-30 08:16:28.780</th>\n",
       "      <td>43.0622</td>\n",
       "      <td>13.0683</td>\n",
       "      <td>8.7</td>\n",
       "      <td>2.1</td>\n",
       "    </tr>\n",
       "    <tr>\n",
       "      <th>2016-10-30 08:31:19.890</th>\n",
       "      <td>42.9268</td>\n",
       "      <td>13.0287</td>\n",
       "      <td>10.8</td>\n",
       "      <td>2.0</td>\n",
       "    </tr>\n",
       "    <tr>\n",
       "      <th>2016-10-30 08:40:17.360</th>\n",
       "      <td>42.8322</td>\n",
       "      <td>13.1107</td>\n",
       "      <td>9.2</td>\n",
       "      <td>6.5</td>\n",
       "    </tr>\n",
       "    <tr>\n",
       "      <th>2016-10-30 08:41:17.010</th>\n",
       "      <td>42.7720</td>\n",
       "      <td>13.1358</td>\n",
       "      <td>9.3</td>\n",
       "      <td>4.3</td>\n",
       "    </tr>\n",
       "    <tr>\n",
       "      <th>2016-10-30 08:42:27.470</th>\n",
       "      <td>42.8795</td>\n",
       "      <td>13.0562</td>\n",
       "      <td>9.6</td>\n",
       "      <td>3.9</td>\n",
       "    </tr>\n",
       "    <tr>\n",
       "      <th>2016-10-30 08:43:08.810</th>\n",
       "      <td>42.7668</td>\n",
       "      <td>13.1383</td>\n",
       "      <td>9.7</td>\n",
       "      <td>4.0</td>\n",
       "    </tr>\n",
       "    <tr>\n",
       "      <th>2016-10-30 08:43:46.260</th>\n",
       "      <td>42.9000</td>\n",
       "      <td>13.1455</td>\n",
       "      <td>6.7</td>\n",
       "      <td>3.5</td>\n",
       "    </tr>\n",
       "    <tr>\n",
       "      <th>2016-10-30 08:44:30.670</th>\n",
       "      <td>42.8548</td>\n",
       "      <td>13.0853</td>\n",
       "      <td>8.3</td>\n",
       "      <td>4.6</td>\n",
       "    </tr>\n",
       "    <tr>\n",
       "      <th>2016-10-30 08:47:05.430</th>\n",
       "      <td>42.7868</td>\n",
       "      <td>13.1655</td>\n",
       "      <td>5.8</td>\n",
       "      <td>3.4</td>\n",
       "    </tr>\n",
       "    <tr>\n",
       "      <th>2016-10-30 08:48:27.160</th>\n",
       "      <td>42.7825</td>\n",
       "      <td>13.1632</td>\n",
       "      <td>10.8</td>\n",
       "      <td>3.8</td>\n",
       "    </tr>\n",
       "    <tr>\n",
       "      <th>2016-10-30 08:48:52.710</th>\n",
       "      <td>42.6828</td>\n",
       "      <td>13.2003</td>\n",
       "      <td>10.1</td>\n",
       "      <td>3.9</td>\n",
       "    </tr>\n",
       "    <tr>\n",
       "      <th>2016-10-30 08:50:43.710</th>\n",
       "      <td>42.8068</td>\n",
       "      <td>13.1952</td>\n",
       "      <td>10.5</td>\n",
       "      <td>3.6</td>\n",
       "    </tr>\n",
       "    <tr>\n",
       "      <th>2016-10-30 08:51:14.270</th>\n",
       "      <td>42.8925</td>\n",
       "      <td>13.0782</td>\n",
       "      <td>9.1</td>\n",
       "      <td>3.7</td>\n",
       "    </tr>\n",
       "    <tr>\n",
       "      <th>2016-10-30 08:51:55.240</th>\n",
       "      <td>42.7828</td>\n",
       "      <td>13.1332</td>\n",
       "      <td>10.1</td>\n",
       "      <td>3.8</td>\n",
       "    </tr>\n",
       "    <tr>\n",
       "      <th>2016-10-30 08:53:12.820</th>\n",
       "      <td>42.8090</td>\n",
       "      <td>13.0830</td>\n",
       "      <td>10.1</td>\n",
       "      <td>3.4</td>\n",
       "    </tr>\n",
       "    <tr>\n",
       "      <th>2016-10-30 08:53:54.740</th>\n",
       "      <td>42.7692</td>\n",
       "      <td>13.1643</td>\n",
       "      <td>10.8</td>\n",
       "      <td>3.2</td>\n",
       "    </tr>\n",
       "    <tr>\n",
       "      <th>2016-10-30 08:54:46.760</th>\n",
       "      <td>42.7958</td>\n",
       "      <td>13.2090</td>\n",
       "      <td>11.3</td>\n",
       "      <td>2.8</td>\n",
       "    </tr>\n",
       "    <tr>\n",
       "      <th>2016-10-30 08:55:41.060</th>\n",
       "      <td>42.7122</td>\n",
       "      <td>13.1968</td>\n",
       "      <td>10.8</td>\n",
       "      <td>4.1</td>\n",
       "    </tr>\n",
       "    <tr>\n",
       "      <th>2016-10-30 08:55:54.210</th>\n",
       "      <td>42.7508</td>\n",
       "      <td>13.2307</td>\n",
       "      <td>10.9</td>\n",
       "      <td>4.1</td>\n",
       "    </tr>\n",
       "    <tr>\n",
       "      <th>2016-10-30 08:56:05.780</th>\n",
       "      <td>42.7993</td>\n",
       "      <td>13.1077</td>\n",
       "      <td>10.5</td>\n",
       "      <td>4.2</td>\n",
       "    </tr>\n",
       "    <tr>\n",
       "      <th>2016-10-30 08:56:38.110</th>\n",
       "      <td>42.8437</td>\n",
       "      <td>13.1453</td>\n",
       "      <td>9.7</td>\n",
       "      <td>3.5</td>\n",
       "    </tr>\n",
       "    <tr>\n",
       "      <th>2016-10-30 08:57:21.560</th>\n",
       "      <td>42.8607</td>\n",
       "      <td>13.0922</td>\n",
       "      <td>9.5</td>\n",
       "      <td>3.8</td>\n",
       "    </tr>\n",
       "    <tr>\n",
       "      <th>2016-10-30 08:58:02.960</th>\n",
       "      <td>42.9078</td>\n",
       "      <td>13.1008</td>\n",
       "      <td>7.3</td>\n",
       "      <td>3.5</td>\n",
       "    </tr>\n",
       "    <tr>\n",
       "      <th>2016-10-30 08:59:31.500</th>\n",
       "      <td>42.8517</td>\n",
       "      <td>13.2118</td>\n",
       "      <td>9.9</td>\n",
       "      <td>3.9</td>\n",
       "    </tr>\n",
       "    <tr>\n",
       "      <th>2016-10-30 08:59:45.430</th>\n",
       "      <td>42.8235</td>\n",
       "      <td>13.1828</td>\n",
       "      <td>12.7</td>\n",
       "      <td>3.6</td>\n",
       "    </tr>\n",
       "    <tr>\n",
       "      <th>2016-10-30 09:00:40.250</th>\n",
       "      <td>42.8758</td>\n",
       "      <td>13.0530</td>\n",
       "      <td>9.9</td>\n",
       "      <td>4.1</td>\n",
       "    </tr>\n",
       "    <tr>\n",
       "      <th>2016-10-30 09:00:53.760</th>\n",
       "      <td>42.8343</td>\n",
       "      <td>13.0733</td>\n",
       "      <td>9.1</td>\n",
       "      <td>3.5</td>\n",
       "    </tr>\n",
       "  </tbody>\n",
       "</table>\n",
       "</div>"
      ],
      "text/plain": [
       "                         Latitude  Longitude  Depth/Km  Magnitude\n",
       "Timestamp                                                        \n",
       "2016-10-30 07:01:14.060   42.8522    13.2443       8.9        2.4\n",
       "2016-10-30 07:02:48.160   42.8538    13.2342       8.3        2.5\n",
       "2016-10-30 07:14:48.470   42.8737    13.1502       9.2        2.4\n",
       "2016-10-30 07:31:51.660   42.8753    13.0563       9.9        2.2\n",
       "2016-10-30 08:04:07.760   42.7907    13.0872      10.2        2.4\n",
       "2016-10-30 08:16:28.780   43.0622    13.0683       8.7        2.1\n",
       "2016-10-30 08:31:19.890   42.9268    13.0287      10.8        2.0\n",
       "2016-10-30 08:40:17.360   42.8322    13.1107       9.2        6.5\n",
       "2016-10-30 08:41:17.010   42.7720    13.1358       9.3        4.3\n",
       "2016-10-30 08:42:27.470   42.8795    13.0562       9.6        3.9\n",
       "2016-10-30 08:43:08.810   42.7668    13.1383       9.7        4.0\n",
       "2016-10-30 08:43:46.260   42.9000    13.1455       6.7        3.5\n",
       "2016-10-30 08:44:30.670   42.8548    13.0853       8.3        4.6\n",
       "2016-10-30 08:47:05.430   42.7868    13.1655       5.8        3.4\n",
       "2016-10-30 08:48:27.160   42.7825    13.1632      10.8        3.8\n",
       "2016-10-30 08:48:52.710   42.6828    13.2003      10.1        3.9\n",
       "2016-10-30 08:50:43.710   42.8068    13.1952      10.5        3.6\n",
       "2016-10-30 08:51:14.270   42.8925    13.0782       9.1        3.7\n",
       "2016-10-30 08:51:55.240   42.7828    13.1332      10.1        3.8\n",
       "2016-10-30 08:53:12.820   42.8090    13.0830      10.1        3.4\n",
       "2016-10-30 08:53:54.740   42.7692    13.1643      10.8        3.2\n",
       "2016-10-30 08:54:46.760   42.7958    13.2090      11.3        2.8\n",
       "2016-10-30 08:55:41.060   42.7122    13.1968      10.8        4.1\n",
       "2016-10-30 08:55:54.210   42.7508    13.2307      10.9        4.1\n",
       "2016-10-30 08:56:05.780   42.7993    13.1077      10.5        4.2\n",
       "2016-10-30 08:56:38.110   42.8437    13.1453       9.7        3.5\n",
       "2016-10-30 08:57:21.560   42.8607    13.0922       9.5        3.8\n",
       "2016-10-30 08:58:02.960   42.9078    13.1008       7.3        3.5\n",
       "2016-10-30 08:59:31.500   42.8517    13.2118       9.9        3.9\n",
       "2016-10-30 08:59:45.430   42.8235    13.1828      12.7        3.6\n",
       "2016-10-30 09:00:40.250   42.8758    13.0530       9.9        4.1\n",
       "2016-10-30 09:00:53.760   42.8343    13.0733       9.1        3.5"
      ]
     },
     "execution_count": 5,
     "metadata": {},
     "output_type": "execute_result"
    }
   ],
   "source": [
    "df.loc['2016-10-30 7:00': '2016-10-30 9:00']"
   ]
  },
  {
   "cell_type": "markdown",
   "id": "6510a622-22bf-4dec-b7ad-8ae791769d07",
   "metadata": {},
   "source": [
    "# 6"
   ]
  },
  {
   "cell_type": "code",
   "execution_count": 6,
   "id": "b3fbe151-2a43-490f-9062-fc825ec09e22",
   "metadata": {},
   "outputs": [
    {
     "name": "stdout",
     "output_type": "stream",
     "text": [
      "0 days 00:00:54.580000\n"
     ]
    }
   ],
   "source": [
    "# Sort by Magnitude decending order\n",
    "df.sort_values('Magnitude') \n",
    "\n",
    "# Calculate time diff\n",
    "time_difference = df.index[1] - df.index[0]\n",
    "\n",
    "print(time_difference)"
   ]
  },
  {
   "cell_type": "markdown",
   "id": "4fb02b0e-f79f-45fc-931d-d464dfb1a9a0",
   "metadata": {},
   "source": [
    "# 7"
   ]
  },
  {
   "cell_type": "code",
   "execution_count": 7,
   "id": "9eb55188-ee97-4042-9ca2-abd2b9f7c3e8",
   "metadata": {},
   "outputs": [
    {
     "name": "stdout",
     "output_type": "stream",
     "text": [
      "                         Latitude  Longitude  Depth/Km  Magnitude  \\\n",
      "Timestamp                                                           \n",
      "2016-08-24 03:36:32.000   42.6983    13.2335       8.1        6.0   \n",
      "2016-08-24 03:37:26.580   42.7123    13.2533       9.0        4.5   \n",
      "2016-08-24 03:40:46.590   42.7647    13.1723       9.7        3.8   \n",
      "2016-08-24 03:41:38.900   42.7803    13.1683       9.7        3.9   \n",
      "2016-08-24 03:42:07.170   42.7798    13.1575       9.7        3.6   \n",
      "...                           ...        ...       ...        ...   \n",
      "2016-11-30 18:39:27.600   42.8903    13.0197      10.7        2.0   \n",
      "2016-11-30 18:43:14.850   42.9443    13.2003       8.6        2.6   \n",
      "2016-11-30 20:18:27.550   43.0092    13.1288       8.0        2.2   \n",
      "2016-11-30 20:45:11.780   43.0197    13.1017       9.3        2.7   \n",
      "2016-11-30 20:54:35.890   42.9935    13.0753       9.5        2.3   \n",
      "\n",
      "                               time_difference  \n",
      "Timestamp                                       \n",
      "2016-08-24 03:36:32.000                    NaT  \n",
      "2016-08-24 03:37:26.580 0 days 00:00:54.580000  \n",
      "2016-08-24 03:40:46.590 0 days 00:03:20.010000  \n",
      "2016-08-24 03:41:38.900 0 days 00:00:52.310000  \n",
      "2016-08-24 03:42:07.170 0 days 00:00:28.270000  \n",
      "...                                        ...  \n",
      "2016-11-30 18:39:27.600 0 days 00:30:10.680000  \n",
      "2016-11-30 18:43:14.850 0 days 00:03:47.250000  \n",
      "2016-11-30 20:18:27.550 0 days 01:35:12.700000  \n",
      "2016-11-30 20:45:11.780 0 days 00:26:44.230000  \n",
      "2016-11-30 20:54:35.890 0 days 00:09:24.110000  \n",
      "\n",
      "[8086 rows x 5 columns]\n"
     ]
    }
   ],
   "source": [
    "df['time_difference'] = df.index.to_series().diff()\n",
    "\n",
    "print(df)"
   ]
  },
  {
   "cell_type": "markdown",
   "id": "af1e27aa-d83a-446f-baa6-c6959eb1c272",
   "metadata": {},
   "source": [
    "# 8"
   ]
  },
  {
   "cell_type": "code",
   "execution_count": 8,
   "id": "a28949ff-b0c9-44db-964b-c4d548fa091e",
   "metadata": {},
   "outputs": [
    {
     "data": {
      "text/plain": [
       "Timestamp\n",
       "2016-08-24    508\n",
       "2016-08-25    240\n",
       "2016-08-26    212\n",
       "2016-08-27    140\n",
       "2016-08-28    110\n",
       "             ... \n",
       "2016-11-26     41\n",
       "2016-11-27     73\n",
       "2016-11-28     82\n",
       "2016-11-29     93\n",
       "2016-11-30     47\n",
       "Freq: D, Length: 99, dtype: int64"
      ]
     },
     "execution_count": 8,
     "metadata": {},
     "output_type": "execute_result"
    }
   ],
   "source": [
    "daliy_pandinwhai = df.resample('D').size().to_period()\n",
    "daliy_pandinwhai"
   ]
  },
  {
   "cell_type": "markdown",
   "id": "8d2354ce-d256-4125-804d-5c393bd50ab5",
   "metadata": {},
   "source": [
    "# 9"
   ]
  },
  {
   "cell_type": "code",
   "execution_count": 9,
   "id": "3e0a7b36-dd6b-43b4-87d9-25efc49b6b92",
   "metadata": {},
   "outputs": [
    {
     "data": {
      "text/plain": [
       "759"
      ]
     },
     "execution_count": 9,
     "metadata": {},
     "output_type": "execute_result"
    }
   ],
   "source": [
    "hourly_counts = df.resample('h').size()\n",
    "num_empty_periods = len(hourly_counts[hourly_counts == 0])\n",
    "num_empty_periods"
   ]
  },
  {
   "cell_type": "markdown",
   "id": "b2e26aa9-fa88-4434-9c1e-6b01a8d86e06",
   "metadata": {},
   "source": [
    "# 10"
   ]
  },
  {
   "cell_type": "code",
   "execution_count": 10,
   "id": "fbd2e347-735b-40db-8eab-6a7cd8cbbf05",
   "metadata": {},
   "outputs": [
    {
     "name": "stdout",
     "output_type": "stream",
     "text": [
      "Period: 2016-08-24 06:14:00\n",
      "Maximum count value: 4\n"
     ]
    }
   ],
   "source": [
    "minutely_counts = df.resample('min').size()\n",
    "\n",
    "max_count_period = minutely_counts.idxmax()\n",
    "max_count_value = minutely_counts.max()\n",
    "\n",
    "print(f\"Period: {max_count_period}\")\n",
    "print(f\"Maximum count value: {max_count_value}\")"
   ]
  },
  {
   "cell_type": "markdown",
   "id": "651b91b1-2a20-48c9-acc7-7acce16ade0c",
   "metadata": {},
   "source": [
    "# 11"
   ]
  },
  {
   "cell_type": "code",
   "execution_count": 11,
   "id": "837eb643-461f-4131-a08e-92270c5033eb",
   "metadata": {},
   "outputs": [
    {
     "data": {
      "text/plain": [
       "Timedelta('0 days 16:46:16.250000')"
      ]
     },
     "execution_count": 11,
     "metadata": {},
     "output_type": "execute_result"
    }
   ],
   "source": [
    "df['time_diff'] = df.index.to_series().diff()\n",
    "\n",
    "max_gap = df['time_diff'].max()\n",
    "max_gap"
   ]
  },
  {
   "cell_type": "markdown",
   "id": "737a09c7-bbd0-43d5-aeb0-e940441b7459",
   "metadata": {},
   "source": [
    "# 12"
   ]
  },
  {
   "cell_type": "code",
   "execution_count": 12,
   "id": "2fe86383-b1cb-4b0b-a910-f752a648913b",
   "metadata": {},
   "outputs": [
    {
     "name": "stdout",
     "output_type": "stream",
     "text": [
      "2016-10-25 03:13:54.230000 to 2016-10-25 20:00:10.480000\n"
     ]
    }
   ],
   "source": [
    "end = df['time_diff'].idxmax()\n",
    "start = end - max_gap\n",
    "print(f\"{start} to {end}\")"
   ]
  },
  {
   "cell_type": "markdown",
   "id": "eb9602f1-2039-4bd6-a095-444aacbfbbdb",
   "metadata": {},
   "source": [
    "# 13"
   ]
  },
  {
   "cell_type": "code",
   "execution_count": 13,
   "id": "325205ef-378d-4945-94e8-068028c86ab5",
   "metadata": {},
   "outputs": [
    {
     "data": {
      "text/html": [
       "<div>\n",
       "<style scoped>\n",
       "    .dataframe tbody tr th:only-of-type {\n",
       "        vertical-align: middle;\n",
       "    }\n",
       "\n",
       "    .dataframe tbody tr th {\n",
       "        vertical-align: top;\n",
       "    }\n",
       "\n",
       "    .dataframe thead th {\n",
       "        text-align: right;\n",
       "    }\n",
       "</style>\n",
       "<table border=\"1\" class=\"dataframe\">\n",
       "  <thead>\n",
       "    <tr style=\"text-align: right;\">\n",
       "      <th></th>\n",
       "      <th>Latitude</th>\n",
       "      <th>Longitude</th>\n",
       "      <th>Depth/Km</th>\n",
       "      <th>Magnitude</th>\n",
       "      <th>time_difference</th>\n",
       "      <th>time_diff</th>\n",
       "      <th>prev_diff</th>\n",
       "      <th>next_diff</th>\n",
       "      <th>is_strong</th>\n",
       "    </tr>\n",
       "    <tr>\n",
       "      <th>Timestamp</th>\n",
       "      <th></th>\n",
       "      <th></th>\n",
       "      <th></th>\n",
       "      <th></th>\n",
       "      <th></th>\n",
       "      <th></th>\n",
       "      <th></th>\n",
       "      <th></th>\n",
       "      <th></th>\n",
       "    </tr>\n",
       "  </thead>\n",
       "  <tbody>\n",
       "    <tr>\n",
       "      <th>2016-08-24 04:33:28.890</th>\n",
       "      <td>42.7922</td>\n",
       "      <td>13.1507</td>\n",
       "      <td>8.0</td>\n",
       "      <td>5.4</td>\n",
       "      <td>0 days 00:00:59.880000</td>\n",
       "      <td>0 days 00:00:59.880000</td>\n",
       "      <td>2.9</td>\n",
       "      <td>2.6</td>\n",
       "      <td>True</td>\n",
       "    </tr>\n",
       "    <tr>\n",
       "      <th>2016-10-26 19:10:36.340</th>\n",
       "      <td>42.8802</td>\n",
       "      <td>13.1275</td>\n",
       "      <td>8.7</td>\n",
       "      <td>5.4</td>\n",
       "      <td>0 days 00:15:36.850000</td>\n",
       "      <td>0 days 00:15:36.850000</td>\n",
       "      <td>3.3</td>\n",
       "      <td>2.8</td>\n",
       "      <td>True</td>\n",
       "    </tr>\n",
       "    <tr>\n",
       "      <th>2016-10-26 21:18:05.850</th>\n",
       "      <td>42.9087</td>\n",
       "      <td>13.1288</td>\n",
       "      <td>7.5</td>\n",
       "      <td>5.9</td>\n",
       "      <td>0 days 00:04:42.570000</td>\n",
       "      <td>0 days 00:04:42.570000</td>\n",
       "      <td>3.7</td>\n",
       "      <td>2.3</td>\n",
       "      <td>True</td>\n",
       "    </tr>\n",
       "    <tr>\n",
       "      <th>2016-10-30 08:40:17.360</th>\n",
       "      <td>42.8322</td>\n",
       "      <td>13.1107</td>\n",
       "      <td>9.2</td>\n",
       "      <td>6.5</td>\n",
       "      <td>0 days 00:08:57.470000</td>\n",
       "      <td>0 days 00:08:57.470000</td>\n",
       "      <td>4.5</td>\n",
       "      <td>2.2</td>\n",
       "      <td>True</td>\n",
       "    </tr>\n",
       "    <tr>\n",
       "      <th>2016-11-29 18:14:02.690</th>\n",
       "      <td>42.5293</td>\n",
       "      <td>13.2803</td>\n",
       "      <td>11.1</td>\n",
       "      <td>4.4</td>\n",
       "      <td>0 days 00:16:18.680000</td>\n",
       "      <td>0 days 00:16:18.680000</td>\n",
       "      <td>2.0</td>\n",
       "      <td>2.0</td>\n",
       "      <td>True</td>\n",
       "    </tr>\n",
       "  </tbody>\n",
       "</table>\n",
       "</div>"
      ],
      "text/plain": [
       "                         Latitude  Longitude  Depth/Km  Magnitude  \\\n",
       "Timestamp                                                           \n",
       "2016-08-24 04:33:28.890   42.7922    13.1507       8.0        5.4   \n",
       "2016-10-26 19:10:36.340   42.8802    13.1275       8.7        5.4   \n",
       "2016-10-26 21:18:05.850   42.9087    13.1288       7.5        5.9   \n",
       "2016-10-30 08:40:17.360   42.8322    13.1107       9.2        6.5   \n",
       "2016-11-29 18:14:02.690   42.5293    13.2803      11.1        4.4   \n",
       "\n",
       "                               time_difference              time_diff  \\\n",
       "Timestamp                                                               \n",
       "2016-08-24 04:33:28.890 0 days 00:00:59.880000 0 days 00:00:59.880000   \n",
       "2016-10-26 19:10:36.340 0 days 00:15:36.850000 0 days 00:15:36.850000   \n",
       "2016-10-26 21:18:05.850 0 days 00:04:42.570000 0 days 00:04:42.570000   \n",
       "2016-10-30 08:40:17.360 0 days 00:08:57.470000 0 days 00:08:57.470000   \n",
       "2016-11-29 18:14:02.690 0 days 00:16:18.680000 0 days 00:16:18.680000   \n",
       "\n",
       "                         prev_diff  next_diff  is_strong  \n",
       "Timestamp                                                 \n",
       "2016-08-24 04:33:28.890        2.9        2.6       True  \n",
       "2016-10-26 19:10:36.340        3.3        2.8       True  \n",
       "2016-10-26 21:18:05.850        3.7        2.3       True  \n",
       "2016-10-30 08:40:17.360        4.5        2.2       True  \n",
       "2016-11-29 18:14:02.690        2.0        2.0       True  "
      ]
     },
     "execution_count": 13,
     "metadata": {},
     "output_type": "execute_result"
    }
   ],
   "source": [
    "df['prev_diff'] = df['Magnitude'] - df['Magnitude'].shift(1)\n",
    "df['next_diff'] = df['Magnitude'] - df['Magnitude'].shift(-1)\n",
    "\n",
    "df['is_strong'] = (df['prev_diff'] >= 2.0) & (df['next_diff'] >= 2.0)\n",
    "\n",
    "strong_earthquakes = df[df['is_strong']]\n",
    "strong_earthquakes"
   ]
  },
  {
   "cell_type": "markdown",
   "id": "60c84cdc-ac76-431a-8faa-bde106f506e7",
   "metadata": {},
   "source": [
    "# 14"
   ]
  },
  {
   "cell_type": "code",
   "execution_count": 37,
   "id": "92a6acf8-6d01-421e-895c-1c0ff51b92ad",
   "metadata": {},
   "outputs": [
    {
     "data": {
      "text/plain": [
       "Timestamp\n",
       "2016-08-24 03:00:00    19\n",
       "2016-08-24 04:00:00    61\n",
       "2016-08-24 05:00:00    72\n",
       "2016-08-24 06:00:00    55\n",
       "2016-08-24 07:00:00    54\n",
       "                       ..\n",
       "2016-11-30 16:00:00     2\n",
       "2016-11-30 17:00:00     3\n",
       "2016-11-30 18:00:00     3\n",
       "2016-11-30 19:00:00     0\n",
       "2016-11-30 20:00:00     3\n",
       "Freq: h, Length: 2370, dtype: int64"
      ]
     },
     "execution_count": 37,
     "metadata": {},
     "output_type": "execute_result"
    }
   ],
   "source": [
    "hourly_counts = df.resample('h').size()\n",
    "hourly_counts"
   ]
  },
  {
   "cell_type": "markdown",
   "id": "2f263304",
   "metadata": {},
   "source": [
    "# 15"
   ]
  },
  {
   "cell_type": "code",
   "execution_count": 15,
   "id": "897c81f9",
   "metadata": {},
   "outputs": [
    {
     "data": {
      "text/plain": [
       "Timestamp\n",
       "2016-08-24    508\n",
       "2016-08-25    240\n",
       "2016-08-26    212\n",
       "2016-08-27    140\n",
       "2016-08-28    110\n",
       "             ... \n",
       "2016-11-26     41\n",
       "2016-11-27     73\n",
       "2016-11-28     82\n",
       "2016-11-29     93\n",
       "2016-11-30     47\n",
       "Freq: D, Length: 99, dtype: int64"
      ]
     },
     "execution_count": 15,
     "metadata": {},
     "output_type": "execute_result"
    }
   ],
   "source": [
    "twentyfour_format = df.resample('D').size()\n",
    "twentyfour_format"
   ]
  },
  {
   "cell_type": "markdown",
   "id": "4a8d0be6",
   "metadata": {},
   "source": [
    "# 16"
   ]
  },
  {
   "cell_type": "code",
   "execution_count": 17,
   "id": "442fde33",
   "metadata": {},
   "outputs": [
    {
     "name": "stdout",
     "output_type": "stream",
     "text": [
      "Timestamp\n",
      "2016-08-24         NaN\n",
      "2016-08-25         NaN\n",
      "2016-08-26    5.066667\n",
      "2016-08-27    4.400000\n",
      "2016-08-28    4.333333\n",
      "                ...   \n",
      "2016-11-26    3.066667\n",
      "2016-11-27    3.400000\n",
      "2016-11-28    3.566667\n",
      "2016-11-29    3.966667\n",
      "2016-11-30    3.700000\n",
      "Freq: D, Name: Magnitude, Length: 99, dtype: float64\n"
     ]
    }
   ],
   "source": [
    "daily_max_magnitude = df.resample('D')['Magnitude'].max()\n",
    "rolling_avg_3_days = daily_max_magnitude.rolling(window=3).mean()\n",
    "\n",
    "print(rolling_avg_3_days)"
   ]
  }
 ],
 "metadata": {
  "kernelspec": {
   "display_name": "Python 3",
   "language": "python",
   "name": "python3"
  },
  "language_info": {
   "codemirror_mode": {
    "name": "ipython",
    "version": 3
   },
   "file_extension": ".py",
   "mimetype": "text/x-python",
   "name": "python",
   "nbconvert_exporter": "python",
   "pygments_lexer": "ipython3",
   "version": "3.13.1"
  }
 },
 "nbformat": 4,
 "nbformat_minor": 5
}
